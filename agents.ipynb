{
 "cells": [
  {
   "cell_type": "code",
   "execution_count": 21,
   "metadata": {},
   "outputs": [
    {
     "name": "stdout",
     "output_type": "stream",
     "text": [
      "SAFETY = True\n",
      "\n"
     ]
    }
   ],
   "source": [
    "from engine.SimEngine import SimEngine\n",
    "from engine.SimStrategy import SimStrategy\n",
    "from util import constants\n",
    "print(f'SAFETY = {constants.SAFETY}')\n",
    "print('')"
   ]
  },
  {
   "cell_type": "code",
   "execution_count": 58,
   "metadata": {},
   "outputs": [],
   "source": [
    "max_days = 30\n",
    "output_dir = './results/'\n",
    "# do_profile\n"
   ]
  },
  {
   "cell_type": "code",
   "execution_count": 59,
   "metadata": {},
   "outputs": [],
   "source": [
    "ss = SimStrategy()\n",
    "ss.setMaxTicks(max_days * constants.S_PER_DAY / ss.time_step + 1)\n",
    "ss.save_interval = constants.S_PER_DAY"
   ]
  },
  {
   "cell_type": "code",
   "execution_count": 60,
   "metadata": {},
   "outputs": [],
   "source": [
    "master = SimEngine(ss, output_dir)"
   ]
  },
  {
   "cell_type": "code",
   "execution_count": 61,
   "metadata": {},
   "outputs": [],
   "source": [
    "master.run()"
   ]
  },
  {
   "cell_type": "code",
   "execution_count": 62,
   "metadata": {},
   "outputs": [],
   "source": [
    "state = master.state"
   ]
  },
  {
   "cell_type": "code",
   "execution_count": 63,
   "metadata": {},
   "outputs": [],
   "source": [
    "ocean_51 = state.agents['ocean_51']"
   ]
  },
  {
   "cell_type": "code",
   "execution_count": 64,
   "metadata": {},
   "outputs": [
    {
     "data": {
      "text/plain": [
       "0.007297007758716793"
      ]
     },
     "execution_count": 64,
     "metadata": {},
     "output_type": "execute_result"
    }
   ],
   "source": [
    "state.OCEANprice()"
   ]
  },
  {
   "cell_type": "code",
   "execution_count": 65,
   "metadata": {},
   "outputs": [],
   "source": [
    "state.takeStep()"
   ]
  },
  {
   "cell_type": "code",
   "execution_count": 66,
   "metadata": {},
   "outputs": [
    {
     "data": {
      "text/plain": [
       "0.0"
      ]
     },
     "execution_count": 66,
     "metadata": {},
     "output_type": "execute_result"
    }
   ],
   "source": [
    "ocean_51.OCEAN()"
   ]
  },
  {
   "cell_type": "code",
   "execution_count": 67,
   "metadata": {},
   "outputs": [
    {
     "data": {
      "text/plain": [
       "[0.0,\n",
       " 0.0,\n",
       " 0.0,\n",
       " 0.0,\n",
       " 0.0,\n",
       " 944444.4444444444,\n",
       " 0.0,\n",
       " 0.0,\n",
       " 0.0,\n",
       " 0.0,\n",
       " 0.0,\n",
       " 882352.9411764706]"
      ]
     },
     "execution_count": 67,
     "metadata": {},
     "output_type": "execute_result"
    }
   ],
   "source": [
    "[agent.OCEAN() for agent in state.agents.values()]"
   ]
  },
  {
   "cell_type": "code",
   "execution_count": 68,
   "metadata": {},
   "outputs": [
    {
     "data": {
      "text/plain": [
       "[0.00028719762595895236,\n",
       " 0.0,\n",
       " 0.0054567548932200945,\n",
       " 0.0,\n",
       " 0.0,\n",
       " 0.0,\n",
       " 0.0,\n",
       " 0.0,\n",
       " 0.0,\n",
       " 0.0,\n",
       " 0.0,\n",
       " 0.0]"
      ]
     },
     "execution_count": 68,
     "metadata": {},
     "output_type": "execute_result"
    }
   ],
   "source": [
    "{agent: agent.USD() for agent in state.agents.values()}"
   ]
  },
  {
   "cell_type": "code",
   "execution_count": 69,
   "metadata": {},
   "outputs": [
    {
     "data": {
      "text/plain": [
       "{'opc_burner': <agents.OCEANBurnerAgent.OCEANBurnerAgent at 0x7f2f5822c610>,\n",
       " 'opf_treasury_for_opf_mgmt': <agents.GrantGivingAgent.GrantGivingAgent at 0x7f2f58227e50>,\n",
       " 'ocean_dao': <agents.RouterAgent.RouterAgent at 0x7f2f58333460>,\n",
       " 'bdb_workers': <agents.GrantTakingAgent.GrantTakingAgent at 0x7f2f5831d0a0>,\n",
       " 'marketplaces1': <agents.MarketplacesAgent.MarketplacesAgent at 0x7f2f5961f100>,\n",
       " 'opf_treasury_for_ocean_dao': <agents.GrantGivingAgent.GrantGivingAgent at 0x7f2f58333700>,\n",
       " 'opf_mgmt': <agents.RouterAgent.RouterAgent at 0x7f2f58333d00>,\n",
       " 'opc_workers': <agents.GrantTakingAgent.GrantTakingAgent at 0x7f2f58227340>,\n",
       " 'bdb_mgmt': <agents.RouterAgent.RouterAgent at 0x7f2f58340b80>,\n",
       " 'ocean_51': <agents.MinterAgents.OCEANFuncMinterAgent at 0x7f2f58333fa0>,\n",
       " 'opc_address': <agents.RouterAgent.RouterAgent at 0x7f2f902c11c0>,\n",
       " 'bdb_treasury': <agents.GrantGivingAgent.GrantGivingAgent at 0x7f2f583333d0>}"
      ]
     },
     "execution_count": 69,
     "metadata": {},
     "output_type": "execute_result"
    }
   ],
   "source": [
    "state.agents"
   ]
  },
  {
   "cell_type": "code",
   "execution_count": null,
   "metadata": {},
   "outputs": [],
   "source": []
  }
 ],
 "metadata": {
  "kernelspec": {
   "display_name": "Python 3",
   "language": "python",
   "name": "python3"
  },
  "language_info": {
   "codemirror_mode": {
    "name": "ipython",
    "version": 3
   },
   "file_extension": ".py",
   "mimetype": "text/x-python",
   "name": "python",
   "nbconvert_exporter": "python",
   "pygments_lexer": "ipython3",
   "version": "3.8.6"
  }
 },
 "nbformat": 4,
 "nbformat_minor": 4
}
